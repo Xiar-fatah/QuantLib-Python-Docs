{
 "cells": [
  {
   "cell_type": "markdown",
   "metadata": {},
   "source": [
    "# Pricing Caps in QuantLib"
   ]
  },
  {
   "cell_type": "code",
   "execution_count": 9,
   "metadata": {},
   "outputs": [],
   "source": [
    "import QuantLib as ql \n",
    "import pandas as pd"
   ]
  },
  {
   "cell_type": "markdown",
   "metadata": {},
   "source": [
    "We initialize by setting the valuation date and defining our forecasting and discounting curve to be used in pricing."
   ]
  },
  {
   "cell_type": "code",
   "execution_count": 11,
   "metadata": {},
   "outputs": [],
   "source": [
    "# Begin by setting the valuation date of which the cap and the floor should be priced at\n",
    "ql.Settings.instance().evaluationDate = ql.Date(1, 1, 2022)\n",
    "# Then we initialize the curve we want to use for discounting and forecasting\n",
    "dfs = [1, 0.965, 0.94]  # discount factors\n",
    "dates = [\n",
    "    ql.Date(1, 1, 2022),\n",
    "    ql.Date(1, 1, 2023),\n",
    "    ql.Date(1, 1, 2024),\n",
    "]  # maturity dates of the discount factors\n",
    "day_counter = ql.Actual360()\n",
    "# Note that we will not strip a curve here, but simply use the discount factors and the dates defined above\n",
    "# By default QuantLib DiscountCurve will log linearly interpolate between the points.\n",
    "curve = ql.DiscountCurve(dates, dfs, day_counter)\n",
    "# The curve will note be linked in case we want to update the quotes later on\n",
    "ts_handle = ql.YieldTermStructureHandle(curve)\n"
   ]
  },
  {
   "cell_type": "markdown",
   "metadata": {},
   "source": [
    "The next step involves creating an schedule of dates for which the optionlets of the caps will mature at. "
   ]
  },
  {
   "cell_type": "code",
   "execution_count": 12,
   "metadata": {},
   "outputs": [],
   "source": [
    "start_date = ql.Date(1, 1, 2022)\n",
    "end_date = start_date + ql.Period(12, ql.Months)\n",
    "\n",
    "# We define the schedule of the cap and floor\n",
    "schedule = ql.Schedule(\n",
    "    start_date,                 # Start date of payments\n",
    "    end_date,                   # End date of payments\n",
    "    ql.Period(3, ql.Months),    # frequency of payments\n",
    "    ql.Sweden(),                # Calendar for adjusting for holidays\n",
    "    ql.ModifiedFollowing,       # Business convention for adjusting for holidays\n",
    "    ql.ModifiedFollowing,       # Business convention for adjusting for holidays\n",
    "    ql.DateGeneration.Backward, # Date generation rule for generating the schedule\n",
    "    False,                      # End of month rule\n",
    ")\n",
    "\n",
    "# Create a custom index to track the payments correctly, specifically fixing days.\n",
    "custom_index= ql.IborIndex(\n",
    "    \"MyIndex\",\n",
    "    ql.Period(\"3m\"),\n",
    "    0,\n",
    "    ql.SEKCurrency(),\n",
    "    ql.Sweden(),\n",
    "    ql.ModifiedFollowing,\n",
    "    False,\n",
    "    ql.Actual360(),\n",
    "    ts_handle,\n",
    ")\n"
   ]
  },
  {
   "cell_type": "markdown",
   "metadata": {},
   "source": [
    "The last step is to define the pricing engine to use for pricing. We can choose between:\n",
    "\n",
    "- BlackCapFloorEngine\n",
    "- BachelierEngine\n",
    "- AnalyticCapFloorEngine\n",
    "- TreeCapFloorEngine\n",
    "\n",
    "In this example we will precede with BlackCapFloorEngine."
   ]
  },
  {
   "cell_type": "code",
   "execution_count": 14,
   "metadata": {},
   "outputs": [
    {
     "name": "stdout",
     "output_type": "stream",
     "text": [
      "10831.583434218297\n"
     ]
    }
   ],
   "source": [
    "# As you have noted by now, the pricing of caps and floors involves creating a floating leg\n",
    "ibor_leg = ql.IborLeg([1e6], schedule, custom_index)\n",
    "strike = [0.025]\n",
    "cap = ql.Cap(ibor_leg, strike)\n",
    "\n",
    "# The final step is to define a volatility surface, we will use a constant volatility for simplicity\n",
    "volatility = ql.QuoteHandle(ql.SimpleQuote(0.5))\n",
    "\n",
    "# Input our discounting and forecasting curve together with our volatility surface to the engine\n",
    "engine = ql.BlackCapFloorEngine(ts_handle, volatility)\n",
    "cap.setPricingEngine(engine)\n",
    "print(cap.NPV())"
   ]
  },
  {
   "cell_type": "markdown",
   "metadata": {},
   "source": [
    "At last we want to show our results of the seperate optionlets."
   ]
  },
  {
   "cell_type": "code",
   "execution_count": 21,
   "metadata": {},
   "outputs": [
    {
     "data": {
      "text/html": [
       "<div>\n",
       "<style scoped>\n",
       "    .dataframe tbody tr th:only-of-type {\n",
       "        vertical-align: middle;\n",
       "    }\n",
       "\n",
       "    .dataframe tbody tr th {\n",
       "        vertical-align: top;\n",
       "    }\n",
       "\n",
       "    .dataframe thead th {\n",
       "        text-align: right;\n",
       "    }\n",
       "</style>\n",
       "<table border=\"1\" class=\"dataframe\">\n",
       "  <thead>\n",
       "    <tr style=\"text-align: right;\">\n",
       "      <th></th>\n",
       "      <th>price</th>\n",
       "      <th>discount_factor</th>\n",
       "      <th>cap_rate</th>\n",
       "      <th>atm_forward</th>\n",
       "      <th>std_dev</th>\n",
       "      <th>accrual_start</th>\n",
       "      <th>accrual_end</th>\n",
       "    </tr>\n",
       "  </thead>\n",
       "  <tbody>\n",
       "    <tr>\n",
       "      <th>0</th>\n",
       "      <td>2493.450264</td>\n",
       "      <td>0.991254</td>\n",
       "      <td>0.025</td>\n",
       "      <td>0.035290</td>\n",
       "      <td>0.037012</td>\n",
       "      <td>January 3rd, 2022</td>\n",
       "      <td>April 1st, 2022</td>\n",
       "    </tr>\n",
       "    <tr>\n",
       "      <th>1</th>\n",
       "      <td>2625.359083</td>\n",
       "      <td>0.982488</td>\n",
       "      <td>0.025</td>\n",
       "      <td>0.035296</td>\n",
       "      <td>0.248282</td>\n",
       "      <td>April 1st, 2022</td>\n",
       "      <td>July 1st, 2022</td>\n",
       "    </tr>\n",
       "    <tr>\n",
       "      <th>2</th>\n",
       "      <td>2846.309041</td>\n",
       "      <td>0.973515</td>\n",
       "      <td>0.025</td>\n",
       "      <td>0.035301</td>\n",
       "      <td>0.352097</td>\n",
       "      <td>July 1st, 2022</td>\n",
       "      <td>October 3rd, 2022</td>\n",
       "    </tr>\n",
       "    <tr>\n",
       "      <th>3</th>\n",
       "      <td>2866.465047</td>\n",
       "      <td>0.964931</td>\n",
       "      <td>0.025</td>\n",
       "      <td>0.035193</td>\n",
       "      <td>0.434000</td>\n",
       "      <td>October 3rd, 2022</td>\n",
       "      <td>January 2nd, 2023</td>\n",
       "    </tr>\n",
       "  </tbody>\n",
       "</table>\n",
       "</div>"
      ],
      "text/plain": [
       "         price  discount_factor  cap_rate  atm_forward   std_dev  \\\n",
       "0  2493.450264         0.991254     0.025     0.035290  0.037012   \n",
       "1  2625.359083         0.982488     0.025     0.035296  0.248282   \n",
       "2  2846.309041         0.973515     0.025     0.035301  0.352097   \n",
       "3  2866.465047         0.964931     0.025     0.035193  0.434000   \n",
       "\n",
       "       accrual_start        accrual_end  \n",
       "0  January 3rd, 2022    April 1st, 2022  \n",
       "1    April 1st, 2022     July 1st, 2022  \n",
       "2     July 1st, 2022  October 3rd, 2022  \n",
       "3  October 3rd, 2022  January 2nd, 2023  "
      ]
     },
     "execution_count": 21,
     "metadata": {},
     "output_type": "execute_result"
    }
   ],
   "source": [
    "schedule_dates = schedule.dates()\n",
    "\n",
    "pd.DataFrame({\n",
    "    'price': cap.optionletsPrice(),\n",
    "    'discount_factor': cap.optionletsDiscountFactor(),\n",
    "    'cap_rate': cap.capRates(),\n",
    "    'atm_forward': cap.optionletsAtmForward(),\n",
    "    'std_dev': cap.optionletsStdDev(),\n",
    "    'accrual_start': schedule_dates[:-1],\n",
    "    'accrual_end' : schedule_dates[1:]\n",
    "})"
   ]
  }
 ],
 "metadata": {
  "kernelspec": {
   "display_name": "ql",
   "language": "python",
   "name": "python3"
  },
  "language_info": {
   "codemirror_mode": {
    "name": "ipython",
    "version": 3
   },
   "file_extension": ".py",
   "mimetype": "text/x-python",
   "name": "python",
   "nbconvert_exporter": "python",
   "pygments_lexer": "ipython3",
   "version": "3.11.4"
  }
 },
 "nbformat": 4,
 "nbformat_minor": 2
}
